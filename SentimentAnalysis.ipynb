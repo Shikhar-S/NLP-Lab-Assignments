{
 "cells": [
  {
   "cell_type": "code",
   "execution_count": 58,
   "metadata": {},
   "outputs": [],
   "source": [
    "import os\n",
    "import pandas as pd\n",
    "\n",
    "base_path='aclImdb'\n",
    "processed_data_path='processed_data'\n",
    "\n",
    "train_data_path = base_path + '/train'\n",
    "test_data_path = base_path + '/test'\n",
    "\n",
    "def read_data(path,sentiment):\n",
    "    dic={'text':[],'label':[]}\n",
    "    for file_path in os.listdir(path):\n",
    "        with open(os.path.join(path,file_path),encoding='utf8') as f:\n",
    "            text=f.readline()\n",
    "        dic['text'].append(text)\n",
    "        dic['label'].append(sentiment)\n",
    "    df=pd.DataFrame(dic)\n",
    "    return df\n",
    "\n",
    "def get_data(raw_data_path,saved_path):\n",
    "    if os.path.exists(saved_path):\n",
    "        df=pd.read_csv(saved_path)\n",
    "    else:\n",
    "        df_pos=read_data(raw_data_path+'/pos',1)\n",
    "        df_neg=read_data(raw_data_path+'/neg',0)\n",
    "        df = pd.concat([df_pos,df_neg],ignore_index=True)\n",
    "        df.to_csv(saved_path,index=False)\n",
    "    return df"
   ]
  },
  {
   "cell_type": "code",
   "execution_count": 59,
   "metadata": {},
   "outputs": [],
   "source": [
    "df_train = get_data(train_data_path,processed_data_path + '/train.csv')"
   ]
  },
  {
   "cell_type": "code",
   "execution_count": 60,
   "metadata": {},
   "outputs": [],
   "source": [
    "df_test = get_data(test_data_path,processed_data_path+'/test.csv')"
   ]
  },
  {
   "cell_type": "code",
   "execution_count": null,
   "metadata": {},
   "outputs": [],
   "source": []
  }
 ],
 "metadata": {
  "kernelspec": {
   "display_name": "Python 3",
   "language": "python",
   "name": "python3"
  },
  "language_info": {
   "codemirror_mode": {
    "name": "ipython",
    "version": 3
   },
   "file_extension": ".py",
   "mimetype": "text/x-python",
   "name": "python",
   "nbconvert_exporter": "python",
   "pygments_lexer": "ipython3",
   "version": "3.7.6"
  }
 },
 "nbformat": 4,
 "nbformat_minor": 4
}
