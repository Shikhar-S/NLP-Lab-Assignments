{
 "cells": [
  {
   "cell_type": "code",
   "execution_count": 9,
   "metadata": {},
   "outputs": [],
   "source": [
    "import os\n",
    "import pandas as pd\n",
    "\n",
    "base_path='aclImdb'\n",
    "processed_data_path='processed_data'\n",
    "\n",
    "train_data_path = base_path + '/train'\n",
    "test_data_path = base_path + '/test'\n",
    "\n",
    "def read_data(path,sentiment):\n",
    "    dic={'text':[],'label':[]}\n",
    "    for file_path in os.listdir(path):\n",
    "        with open(os.path.join(path,file_path),encoding='utf8') as f:\n",
    "            text=f.readline()\n",
    "        dic['text'].append(text)\n",
    "        dic['label'].append(sentiment)\n",
    "    df=pd.DataFrame(dic)\n",
    "    return df\n",
    "\n",
    "def get_data(raw_data_path,saved_path):\n",
    "    if os.path.exists(saved_path):\n",
    "        df=pd.read_csv(saved_path)\n",
    "    else:\n",
    "        df_pos=read_data(raw_data_path+'/pos',1)\n",
    "        df_neg=read_data(raw_data_path+'/neg',0)\n",
    "        df = pd.concat([df_pos,df_neg],ignore_index=True)\n",
    "        df.to_csv(saved_path,index=False)\n",
    "    return df"
   ]
  },
  {
   "cell_type": "code",
   "execution_count": 10,
   "metadata": {},
   "outputs": [],
   "source": [
    "df_train = get_data(train_data_path,processed_data_path + '/train.csv')"
   ]
  },
  {
   "cell_type": "code",
   "execution_count": 11,
   "metadata": {},
   "outputs": [],
   "source": [
    "df_test = get_data(test_data_path,processed_data_path+'/test.csv')"
   ]
  },
  {
   "cell_type": "code",
   "execution_count": 77,
   "metadata": {},
   "outputs": [
    {
     "data": {
      "text/plain": [
       "Pipeline(steps=[('vectorizer', TfidfVectorizer()),\n",
       "                ('model', LogisticRegression())])"
      ]
     },
     "execution_count": 77,
     "metadata": {},
     "output_type": "execute_result"
    }
   ],
   "source": [
    "from sklearn.pipeline import Pipeline\n",
    "from sklearn.linear_model import LogisticRegression\n",
    "logistic_regressor = LogisticRegression()\n",
    "tf_idf_vectorizer = TfidfVectorizer()\n",
    "pipeline = Pipeline([\n",
    "    ('vectorizer',tf_idf_vectorizer),\n",
    "    ('model',logistic_regressor)\n",
    "])\n",
    "pipeline.fit(df_train.iloc[[0,-1,-2,1]]['text'],df_train.iloc[[0,-1,-2,1]]['label'])"
   ]
  },
  {
   "cell_type": "code",
   "execution_count": 83,
   "metadata": {},
   "outputs": [
    {
     "data": {
      "text/plain": [
       "array([0, 0, 0, 0], dtype=int64)"
      ]
     },
     "execution_count": 83,
     "metadata": {},
     "output_type": "execute_result"
    }
   ],
   "source": [
    "pred_train_label = pipeline.predict(df_train['text'])\n",
    "from sklearn.metrics import accuracy\n",
    "print('Training accuracy',accuracy(pred_train_label,df_train['label']))"
   ]
  },
  {
   "cell_type": "code",
   "execution_count": 79,
   "metadata": {},
   "outputs": [
    {
     "data": {
      "text/html": [
       "<div>\n",
       "<style scoped>\n",
       "    .dataframe tbody tr th:only-of-type {\n",
       "        vertical-align: middle;\n",
       "    }\n",
       "\n",
       "    .dataframe tbody tr th {\n",
       "        vertical-align: top;\n",
       "    }\n",
       "\n",
       "    .dataframe thead th {\n",
       "        text-align: right;\n",
       "    }\n",
       "</style>\n",
       "<table border=\"1\" class=\"dataframe\">\n",
       "  <thead>\n",
       "    <tr style=\"text-align: right;\">\n",
       "      <th></th>\n",
       "      <th>text</th>\n",
       "      <th>label</th>\n",
       "    </tr>\n",
       "  </thead>\n",
       "  <tbody>\n",
       "    <tr>\n",
       "      <th>0</th>\n",
       "      <td>Bromwell High is a cartoon comedy. It ran at t...</td>\n",
       "      <td>1</td>\n",
       "    </tr>\n",
       "    <tr>\n",
       "      <th>24999</th>\n",
       "      <td>This is one of the dumbest films, I've ever se...</td>\n",
       "      <td>0</td>\n",
       "    </tr>\n",
       "    <tr>\n",
       "      <th>24998</th>\n",
       "      <td>Some films that you pick up for a pound turn o...</td>\n",
       "      <td>0</td>\n",
       "    </tr>\n",
       "    <tr>\n",
       "      <th>1</th>\n",
       "      <td>Homelessness (or Houselessness as George Carli...</td>\n",
       "      <td>1</td>\n",
       "    </tr>\n",
       "  </tbody>\n",
       "</table>\n",
       "</div>"
      ],
      "text/plain": [
       "                                                    text  label\n",
       "0      Bromwell High is a cartoon comedy. It ran at t...      1\n",
       "24999  This is one of the dumbest films, I've ever se...      0\n",
       "24998  Some films that you pick up for a pound turn o...      0\n",
       "1      Homelessness (or Houselessness as George Carli...      1"
      ]
     },
     "execution_count": 79,
     "metadata": {},
     "output_type": "execute_result"
    }
   ],
   "source": [
    "pred_test_label = pipeline.predict(df_test['text'])\n",
    "print('Testing accuracy',accuracy(pred_test_label,df_test['label']))"
   ]
  },
  {
   "cell_type": "code",
   "execution_count": null,
   "metadata": {},
   "outputs": [],
   "source": []
  }
 ],
 "metadata": {
  "kernelspec": {
   "display_name": "Python 3",
   "language": "python",
   "name": "python3"
  }
 },
 "nbformat": 4,
 "nbformat_minor": 4
}
